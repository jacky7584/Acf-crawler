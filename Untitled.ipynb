{
 "cells": [
  {
   "cell_type": "code",
   "execution_count": 2,
   "id": "f79ce208",
   "metadata": {},
   "outputs": [],
   "source": [
    "import pdfplumber\n",
    "import pandas as pd\n",
    "import requests\n",
    "from bs4 import BeautifulSoup\n",
    "from requests.packages import urllib3\n",
    "from selenium import webdriver\n",
    "from selenium.webdriver.edge.options import Options\n",
    "from selenium.webdriver.common.by import By \n",
    "import tabula\n",
    "import time\n",
    "import os\n",
    "from selenium.webdriver.edge.options import Options\n",
    "from selenium.webdriver.common.by import By\n",
    "import time"
   ]
  },
  {
   "cell_type": "code",
   "execution_count": 9,
   "id": "bf934b62",
   "metadata": {},
   "outputs": [
    {
     "name": "stdout",
     "output_type": "stream",
     "text": [
      "93,076,000\n",
      "已發行受益權單位總數 None\n",
      "93,076,000\n",
      "2023/10/06 預估發行受益權單位數 None\n"
     ]
    }
   ],
   "source": [
    "proxy = \"10.11.1.78:8080\"\n",
    "proxies = {\n",
    "    \"http\": \"http://\" + proxy,\n",
    "    \"https\": \"http://\" + proxy,\n",
    "}\n",
    "response = requests.get(\"https://websys.fsit.com.tw/FubonETF/Trade/Pcf.aspx?stkId=00694B&lan=TW\",proxies=proxies)\n",
    "a1=[]\n",
    "b1=[]\n",
    "content = BeautifulSoup(response.text, \"html.parser\")\n",
    "p=content.find_all(\"p\")\n",
    "for i in range(len(p)):\n",
    "    if \"已發行受益權單位總數\" in p[i].get_text():\n",
    "        print(p[i].get_text(),print(p[i+1].get_text()))\n",
    "        a1.append(p[i+1].get_text())\n",
    "    elif \"預估發行受益權單位數\" in p[i].get_text():\n",
    "        print(p[i].get_text(),print(p[i+1].get_text()))\n",
    "        b1.append(p[i+1].get_text())"
   ]
  },
  {
   "cell_type": "code",
   "execution_count": 117,
   "id": "8b5b04c0",
   "metadata": {},
   "outputs": [
    {
     "data": {
      "text/plain": [
       "[<th class=\"b-align-center\" colspan=\"2\"><em>台新美元銀行債券15年期以上ETF基金 (證券代號:00842B) 2023/10/11 現金申購買回清單公告 </em></th>,\n",
       " <th><em class=\"set-default\">每申購基數之需預收申購總價金(元)</em></th>,\n",
       " <th><em class=\"set-default\">基金淨資產價值</em></th>,\n",
       " <th><em class=\"set-default\">已發行受益權單位總數</em></th>,\n",
       " <th><em class=\"set-default\">與前日已發行單位差異數</em></th>,\n",
       " <th><em class=\"set-default\">每受益權單位淨資產價值</em></th>,\n",
       " <th><em class=\"set-default\">每現金申購/買回基數之受益權單位數</em></th>,\n",
       " <th><em class=\"set-default\">每現金申購/買回基數約當市值</em></th>,\n",
       " <th><em class=\"set-default\">每現金申購基數總價金差異額</em></th>,\n",
       " <th><em class=\"set-default\">每申購基數實際申購總價金</em></th>,\n",
       " <th><em class=\"set-default\">2023/10/06預估發行受益權單位數</em></th>]"
      ]
     },
     "execution_count": 117,
     "metadata": {},
     "output_type": "execute_result"
    }
   ],
   "source": [
    "table[0].find_all(\"th\")"
   ]
  },
  {
   "cell_type": "code",
   "execution_count": 113,
   "id": "f6869fc5",
   "metadata": {},
   "outputs": [
    {
     "data": {
      "text/plain": [
       "[<td><em class=\"set-default\">NT$15,749,288</em></td>,\n",
       " <td><em class=\"set-default\">NT$277,962,127</em></td>,\n",
       " <td><em class=\"set-default\">9,267,000</em></td>,\n",
       " <td><em class=\"set-default\">0</em></td>,\n",
       " <td><em class=\"set-default\">NT$29.99</em></td>,\n",
       " <td><em class=\"set-default\">500,000</em></td>,\n",
       " <td><em class=\"set-default\">14,997,417</em></td>,\n",
       " <td><em class=\"set-default\">-685,213</em></td>,\n",
       " <td><em class=\"set-default\">15,026,982</em></td>,\n",
       " <td><em class=\"set-default\">9,767,000</em></td>]"
      ]
     },
     "execution_count": 113,
     "metadata": {},
     "output_type": "execute_result"
    }
   ],
   "source": [
    "table[0].find_all(\"td\")"
   ]
  },
  {
   "cell_type": "markdown",
   "id": "0bf4b534",
   "metadata": {},
   "source": [
    "# 元大"
   ]
  },
  {
   "cell_type": "code",
   "execution_count": 128,
   "id": "5c3c5d65",
   "metadata": {},
   "outputs": [
    {
     "ename": "ValueError",
     "evalue": "Length of values (0) does not match length of index (12)",
     "output_type": "error",
     "traceback": [
      "\u001b[1;31m---------------------------------------------------------------------------\u001b[0m",
      "\u001b[1;31mValueError\u001b[0m                                Traceback (most recent call last)",
      "Cell \u001b[1;32mIn[128], line 28\u001b[0m\n\u001b[0;32m     26\u001b[0m ans\u001b[38;5;241m=\u001b[39mpd\u001b[38;5;241m.\u001b[39mDataFrame()\n\u001b[0;32m     27\u001b[0m ans[\u001b[38;5;124m'\u001b[39m\u001b[38;5;124mname\u001b[39m\u001b[38;5;124m'\u001b[39m]\u001b[38;5;241m=\u001b[39mname\n\u001b[1;32m---> 28\u001b[0m ans[\u001b[38;5;124m\"\u001b[39m\u001b[38;5;124m已發行受益權單位總數\u001b[39m\u001b[38;5;124m\"\u001b[39m]\u001b[38;5;241m=\u001b[39ma1\n\u001b[0;32m     29\u001b[0m ans[\u001b[38;5;124m\"\u001b[39m\u001b[38;5;124m預估發行受益權單位數\u001b[39m\u001b[38;5;124m\"\u001b[39m]\u001b[38;5;241m=\u001b[39mb1\n\u001b[0;32m     30\u001b[0m ans\n",
      "File \u001b[1;32m~\\AppData\\Roaming\\Python\\Python310\\site-packages\\pandas\\core\\frame.py:3950\u001b[0m, in \u001b[0;36mDataFrame.__setitem__\u001b[1;34m(self, key, value)\u001b[0m\n\u001b[0;32m   3947\u001b[0m     \u001b[38;5;28mself\u001b[39m\u001b[38;5;241m.\u001b[39m_setitem_array([key], value)\n\u001b[0;32m   3948\u001b[0m \u001b[38;5;28;01melse\u001b[39;00m:\n\u001b[0;32m   3949\u001b[0m     \u001b[38;5;66;03m# set column\u001b[39;00m\n\u001b[1;32m-> 3950\u001b[0m     \u001b[38;5;28;43mself\u001b[39;49m\u001b[38;5;241;43m.\u001b[39;49m\u001b[43m_set_item\u001b[49m\u001b[43m(\u001b[49m\u001b[43mkey\u001b[49m\u001b[43m,\u001b[49m\u001b[43m \u001b[49m\u001b[43mvalue\u001b[49m\u001b[43m)\u001b[49m\n",
      "File \u001b[1;32m~\\AppData\\Roaming\\Python\\Python310\\site-packages\\pandas\\core\\frame.py:4143\u001b[0m, in \u001b[0;36mDataFrame._set_item\u001b[1;34m(self, key, value)\u001b[0m\n\u001b[0;32m   4133\u001b[0m \u001b[38;5;28;01mdef\u001b[39;00m \u001b[38;5;21m_set_item\u001b[39m(\u001b[38;5;28mself\u001b[39m, key, value) \u001b[38;5;241m-\u001b[39m\u001b[38;5;241m>\u001b[39m \u001b[38;5;28;01mNone\u001b[39;00m:\n\u001b[0;32m   4134\u001b[0m     \u001b[38;5;124;03m\"\"\"\u001b[39;00m\n\u001b[0;32m   4135\u001b[0m \u001b[38;5;124;03m    Add series to DataFrame in specified column.\u001b[39;00m\n\u001b[0;32m   4136\u001b[0m \n\u001b[1;32m   (...)\u001b[0m\n\u001b[0;32m   4141\u001b[0m \u001b[38;5;124;03m    ensure homogeneity.\u001b[39;00m\n\u001b[0;32m   4142\u001b[0m \u001b[38;5;124;03m    \"\"\"\u001b[39;00m\n\u001b[1;32m-> 4143\u001b[0m     value \u001b[38;5;241m=\u001b[39m \u001b[38;5;28;43mself\u001b[39;49m\u001b[38;5;241;43m.\u001b[39;49m\u001b[43m_sanitize_column\u001b[49m\u001b[43m(\u001b[49m\u001b[43mvalue\u001b[49m\u001b[43m)\u001b[49m\n\u001b[0;32m   4145\u001b[0m     \u001b[38;5;28;01mif\u001b[39;00m (\n\u001b[0;32m   4146\u001b[0m         key \u001b[38;5;129;01min\u001b[39;00m \u001b[38;5;28mself\u001b[39m\u001b[38;5;241m.\u001b[39mcolumns\n\u001b[0;32m   4147\u001b[0m         \u001b[38;5;129;01mand\u001b[39;00m value\u001b[38;5;241m.\u001b[39mndim \u001b[38;5;241m==\u001b[39m \u001b[38;5;241m1\u001b[39m\n\u001b[0;32m   4148\u001b[0m         \u001b[38;5;129;01mand\u001b[39;00m \u001b[38;5;129;01mnot\u001b[39;00m is_extension_array_dtype(value)\n\u001b[0;32m   4149\u001b[0m     ):\n\u001b[0;32m   4150\u001b[0m         \u001b[38;5;66;03m# broadcast across multiple columns if necessary\u001b[39;00m\n\u001b[0;32m   4151\u001b[0m         \u001b[38;5;28;01mif\u001b[39;00m \u001b[38;5;129;01mnot\u001b[39;00m \u001b[38;5;28mself\u001b[39m\u001b[38;5;241m.\u001b[39mcolumns\u001b[38;5;241m.\u001b[39mis_unique \u001b[38;5;129;01mor\u001b[39;00m \u001b[38;5;28misinstance\u001b[39m(\u001b[38;5;28mself\u001b[39m\u001b[38;5;241m.\u001b[39mcolumns, MultiIndex):\n",
      "File \u001b[1;32m~\\AppData\\Roaming\\Python\\Python310\\site-packages\\pandas\\core\\frame.py:4870\u001b[0m, in \u001b[0;36mDataFrame._sanitize_column\u001b[1;34m(self, value)\u001b[0m\n\u001b[0;32m   4867\u001b[0m     \u001b[38;5;28;01mreturn\u001b[39;00m _reindex_for_setitem(Series(value), \u001b[38;5;28mself\u001b[39m\u001b[38;5;241m.\u001b[39mindex)\n\u001b[0;32m   4869\u001b[0m \u001b[38;5;28;01mif\u001b[39;00m is_list_like(value):\n\u001b[1;32m-> 4870\u001b[0m     \u001b[43mcom\u001b[49m\u001b[38;5;241;43m.\u001b[39;49m\u001b[43mrequire_length_match\u001b[49m\u001b[43m(\u001b[49m\u001b[43mvalue\u001b[49m\u001b[43m,\u001b[49m\u001b[43m \u001b[49m\u001b[38;5;28;43mself\u001b[39;49m\u001b[38;5;241;43m.\u001b[39;49m\u001b[43mindex\u001b[49m\u001b[43m)\u001b[49m\n\u001b[0;32m   4871\u001b[0m \u001b[38;5;28;01mreturn\u001b[39;00m sanitize_array(value, \u001b[38;5;28mself\u001b[39m\u001b[38;5;241m.\u001b[39mindex, copy\u001b[38;5;241m=\u001b[39m\u001b[38;5;28;01mTrue\u001b[39;00m, allow_2d\u001b[38;5;241m=\u001b[39m\u001b[38;5;28;01mTrue\u001b[39;00m)\n",
      "File \u001b[1;32m~\\AppData\\Roaming\\Python\\Python310\\site-packages\\pandas\\core\\common.py:576\u001b[0m, in \u001b[0;36mrequire_length_match\u001b[1;34m(data, index)\u001b[0m\n\u001b[0;32m    572\u001b[0m \u001b[38;5;124;03m\"\"\"\u001b[39;00m\n\u001b[0;32m    573\u001b[0m \u001b[38;5;124;03mCheck the length of data matches the length of the index.\u001b[39;00m\n\u001b[0;32m    574\u001b[0m \u001b[38;5;124;03m\"\"\"\u001b[39;00m\n\u001b[0;32m    575\u001b[0m \u001b[38;5;28;01mif\u001b[39;00m \u001b[38;5;28mlen\u001b[39m(data) \u001b[38;5;241m!=\u001b[39m \u001b[38;5;28mlen\u001b[39m(index):\n\u001b[1;32m--> 576\u001b[0m     \u001b[38;5;28;01mraise\u001b[39;00m \u001b[38;5;167;01mValueError\u001b[39;00m(\n\u001b[0;32m    577\u001b[0m         \u001b[38;5;124m\"\u001b[39m\u001b[38;5;124mLength of values \u001b[39m\u001b[38;5;124m\"\u001b[39m\n\u001b[0;32m    578\u001b[0m         \u001b[38;5;124mf\u001b[39m\u001b[38;5;124m\"\u001b[39m\u001b[38;5;124m(\u001b[39m\u001b[38;5;132;01m{\u001b[39;00m\u001b[38;5;28mlen\u001b[39m(data)\u001b[38;5;132;01m}\u001b[39;00m\u001b[38;5;124m) \u001b[39m\u001b[38;5;124m\"\u001b[39m\n\u001b[0;32m    579\u001b[0m         \u001b[38;5;124m\"\u001b[39m\u001b[38;5;124mdoes not match length of index \u001b[39m\u001b[38;5;124m\"\u001b[39m\n\u001b[0;32m    580\u001b[0m         \u001b[38;5;124mf\u001b[39m\u001b[38;5;124m\"\u001b[39m\u001b[38;5;124m(\u001b[39m\u001b[38;5;132;01m{\u001b[39;00m\u001b[38;5;28mlen\u001b[39m(index)\u001b[38;5;132;01m}\u001b[39;00m\u001b[38;5;124m)\u001b[39m\u001b[38;5;124m\"\u001b[39m\n\u001b[0;32m    581\u001b[0m     )\n",
      "\u001b[1;31mValueError\u001b[0m: Length of values (0) does not match length of index (12)"
     ]
    }
   ],
   "source": [
    "name=[\"00679B\",\"00681R\",\"00719B\",\"00721B\",\"00786B\",\"00788B\",\"00680L\",\"00697B\",\"00720B\",\"00751B\",\"00787B\",\"00870B\"]\n",
    "proxy = \"10.11.1.78:8080\"\n",
    "proxies = {\n",
    "    \"http\": \"http://\" + proxy,\n",
    "    \"https\": \"http://\" + proxy,\n",
    "}\n",
    "domain=\"https://www.yuantaetfs.com/tradeInfo/pcf/\"\n",
    "a1=[]\n",
    "b1=[]\n",
    "ck=0\n",
    "for i in name:\n",
    "    url=domain+i\n",
    "    response = requests.get(url,proxies=proxies)\n",
    "    content = BeautifulSoup(response.text, \"html.parser\")\n",
    "    table = content.find_all(class_=\"td\")\n",
    "    for j in table:\n",
    "        try:\n",
    "            h4=table.find(\"h4\").get_text()\n",
    "            p=table.find(\"p\").get_text()\n",
    "            if h4==\"已發行受益權單位總數\":\n",
    "                a1.append(p)\n",
    "            elif h4==\"預估發行受益權單位數\":\n",
    "                b1.append(p)\n",
    "        except:\n",
    "            pass\n",
    "\n",
    "ans=pd.DataFrame()\n",
    "ans['name']=name\n",
    "ans[\"已發行受益權單位總數\"]=a1\n",
    "ans[\"預估發行受益權單位數\"]=b1\n",
    "ans"
   ]
  },
  {
   "cell_type": "markdown",
   "id": "54f81328",
   "metadata": {},
   "source": [
    "# 永豐"
   ]
  },
  {
   "cell_type": "code",
   "execution_count": 51,
   "id": "c3338bae",
   "metadata": {},
   "outputs": [
    {
     "data": {
      "text/html": [
       "<div>\n",
       "<style scoped>\n",
       "    .dataframe tbody tr th:only-of-type {\n",
       "        vertical-align: middle;\n",
       "    }\n",
       "\n",
       "    .dataframe tbody tr th {\n",
       "        vertical-align: top;\n",
       "    }\n",
       "\n",
       "    .dataframe thead th {\n",
       "        text-align: right;\n",
       "    }\n",
       "</style>\n",
       "<table border=\"1\" class=\"dataframe\">\n",
       "  <thead>\n",
       "    <tr style=\"text-align: right;\">\n",
       "      <th></th>\n",
       "      <th>name</th>\n",
       "      <th>已發行受益權單位總數</th>\n",
       "      <th>預估發行受益權單位數</th>\n",
       "    </tr>\n",
       "  </thead>\n",
       "  <tbody>\n",
       "    <tr>\n",
       "      <th>0</th>\n",
       "      <td>00857B</td>\n",
       "      <td>154,768,000</td>\n",
       "      <td>154,768,000</td>\n",
       "    </tr>\n",
       "    <tr>\n",
       "      <th>1</th>\n",
       "      <td>00856B</td>\n",
       "      <td>8,292,000</td>\n",
       "      <td>8,292,000</td>\n",
       "    </tr>\n",
       "    <tr>\n",
       "      <th>2</th>\n",
       "      <td>00836B</td>\n",
       "      <td>595,041,000</td>\n",
       "      <td>599,041,000</td>\n",
       "    </tr>\n",
       "  </tbody>\n",
       "</table>\n",
       "</div>"
      ],
      "text/plain": [
       "     name   已發行受益權單位總數   預估發行受益權單位數\n",
       "0  00857B  154,768,000  154,768,000\n",
       "1  00856B    8,292,000    8,292,000\n",
       "2  00836B  595,041,000  599,041,000"
      ]
     },
     "execution_count": 51,
     "metadata": {},
     "output_type": "execute_result"
    }
   ],
   "source": [
    "name=[\"00857B\",\"00856B\",\"00836B\"]\n",
    "proxy = \"10.11.1.78:8080\"\n",
    "proxies = {\n",
    "    \"http\": \"http://\" + proxy,\n",
    "    \"https\": \"http://\" + proxy,\n",
    "}\n",
    "domain=\"https://sitc.sinopac.com/SinopacEtfs/Etfs/Pcf/\"\n",
    "a1=[]\n",
    "b1=[]\n",
    "ck=0\n",
    "for i in name:\n",
    "    url=domain+i\n",
    "    response = requests.get(url,proxies=proxies)\n",
    "    content = BeautifulSoup(response.text, \"html.parser\")\n",
    "    table = content.find_all(class_=\"fl_cell\")\n",
    "    for j in table:\n",
    "        try:\n",
    "            h4=j.find(\"h4\").get_text()\n",
    "            p=j.find(\"p\").get_text()\n",
    "            if \"已發行受益權單位總數\" in h4:\n",
    "                a1.append(p)\n",
    "            elif \"預估發行受益權單位數\" in h4:\n",
    "                b1.append(p)\n",
    "        except:\n",
    "            pass\n",
    "ans=pd.DataFrame()\n",
    "ans['name']=name\n",
    "ans[\"已發行受益權單位總數\"]=a1\n",
    "ans[\"預估發行受益權單位數\"]=b1\n",
    "ans"
   ]
  },
  {
   "cell_type": "markdown",
   "id": "ff1b1b73",
   "metadata": {},
   "source": [
    "# 新光"
   ]
  },
  {
   "cell_type": "code",
   "execution_count": 127,
   "id": "84ff4ce9",
   "metadata": {},
   "outputs": [
    {
     "data": {
      "text/html": [
       "<div>\n",
       "<style scoped>\n",
       "    .dataframe tbody tr th:only-of-type {\n",
       "        vertical-align: middle;\n",
       "    }\n",
       "\n",
       "    .dataframe tbody tr th {\n",
       "        vertical-align: top;\n",
       "    }\n",
       "\n",
       "    .dataframe thead th {\n",
       "        text-align: right;\n",
       "    }\n",
       "</style>\n",
       "<table border=\"1\" class=\"dataframe\">\n",
       "  <thead>\n",
       "    <tr style=\"text-align: right;\">\n",
       "      <th></th>\n",
       "      <th>name</th>\n",
       "      <th>已發行受益權單位總數</th>\n",
       "      <th>預估發行受益權單位數</th>\n",
       "    </tr>\n",
       "  </thead>\n",
       "  <tbody>\n",
       "    <tr>\n",
       "      <th>0</th>\n",
       "      <td>00775B</td>\n",
       "      <td>107,600,000</td>\n",
       "      <td>107,600,000</td>\n",
       "    </tr>\n",
       "    <tr>\n",
       "      <th>1</th>\n",
       "      <td>00831B</td>\n",
       "      <td>14,100,000</td>\n",
       "      <td>14,100,000</td>\n",
       "    </tr>\n",
       "    <tr>\n",
       "      <th>2</th>\n",
       "      <td>00844B</td>\n",
       "      <td>285,675,000</td>\n",
       "      <td>285,675,000</td>\n",
       "    </tr>\n",
       "    <tr>\n",
       "      <th>3</th>\n",
       "      <td>00867B</td>\n",
       "      <td>488,150,000</td>\n",
       "      <td>488,150,000</td>\n",
       "    </tr>\n",
       "  </tbody>\n",
       "</table>\n",
       "</div>"
      ],
      "text/plain": [
       "     name   已發行受益權單位總數   預估發行受益權單位數\n",
       "0  00775B  107,600,000  107,600,000\n",
       "1  00831B   14,100,000   14,100,000\n",
       "2  00844B  285,675,000  285,675,000\n",
       "3  00867B  488,150,000  488,150,000"
      ]
     },
     "execution_count": 127,
     "metadata": {},
     "output_type": "execute_result"
    }
   ],
   "source": [
    "name=[\"00775B\",\"00831B\",\"00844B\",\"00867B\"]\n",
    "proxy = \"10.11.1.78:8080\"\n",
    "proxies = {\n",
    "    \"http\": \"http://\" + proxy,\n",
    "    \"https\": \"http://\" + proxy,\n",
    "}\n",
    "domain=\"http://etf.skit.com.tw/Home/Pcf/\"\n",
    "a1=[]\n",
    "b1=[]\n",
    "ck=0\n",
    "for i in name:\n",
    "    url=domain+i\n",
    "    response = requests.get(url,proxies=proxies)\n",
    "    content = BeautifulSoup(response.text, \"html.parser\")\n",
    "    table = content.find_all(\"table\")\n",
    "    th=table[0].find_all(\"th\")\n",
    "    td=table[0].find_all(\"td\")\n",
    "    for ids,word in enumerate(th):\n",
    "        if \"已發行受益權單位總數\" in word.get_text():\n",
    "            ans=td[ids].get_text().replace('\\r\\n','').strip()\n",
    "            a1.append(ans)\n",
    "        elif \"預估發行受益權單位數\" in word.get_text():\n",
    "            b1.append(td[ids].get_text())\n",
    "ans=pd.DataFrame()\n",
    "ans['name']=name\n",
    "ans[\"已發行受益權單位總數\"]=a1\n",
    "ans[\"預估發行受益權單位數\"]=b1\n",
    "ans"
   ]
  },
  {
   "cell_type": "markdown",
   "id": "b936f57e",
   "metadata": {},
   "source": [
    "# 台新"
   ]
  },
  {
   "cell_type": "code",
   "execution_count": 121,
   "id": "74e6c320",
   "metadata": {},
   "outputs": [
    {
     "data": {
      "text/html": [
       "<div>\n",
       "<style scoped>\n",
       "    .dataframe tbody tr th:only-of-type {\n",
       "        vertical-align: middle;\n",
       "    }\n",
       "\n",
       "    .dataframe tbody tr th {\n",
       "        vertical-align: top;\n",
       "    }\n",
       "\n",
       "    .dataframe thead th {\n",
       "        text-align: right;\n",
       "    }\n",
       "</style>\n",
       "<table border=\"1\" class=\"dataframe\">\n",
       "  <thead>\n",
       "    <tr style=\"text-align: right;\">\n",
       "      <th></th>\n",
       "      <th>name</th>\n",
       "      <th>已發行受益權單位總數</th>\n",
       "      <th>預估發行受益權單位數</th>\n",
       "    </tr>\n",
       "  </thead>\n",
       "  <tbody>\n",
       "    <tr>\n",
       "      <th>0</th>\n",
       "      <td>13258</td>\n",
       "      <td>9,267,000</td>\n",
       "      <td>9,767,000</td>\n",
       "    </tr>\n",
       "    <tr>\n",
       "      <th>1</th>\n",
       "      <td>14443</td>\n",
       "      <td>31,479,000</td>\n",
       "      <td>31,479,000</td>\n",
       "    </tr>\n",
       "  </tbody>\n",
       "</table>\n",
       "</div>"
      ],
      "text/plain": [
       "    name  已發行受益權單位總數  預估發行受益權單位數\n",
       "0  13258   9,267,000   9,767,000\n",
       "1  14443  31,479,000  31,479,000"
      ]
     },
     "execution_count": 121,
     "metadata": {},
     "output_type": "execute_result"
    }
   ],
   "source": [
    "name=[\"13258\",\"14443\"]\n",
    "proxy = \"10.11.1.78:8080\"\n",
    "proxies = {\n",
    "    \"http\": \"http://\" + proxy,\n",
    "    \"https\": \"http://\" + proxy,\n",
    "}\n",
    "domain=\"https://www.tsit.com.tw/ETF?Tag=PurchaseTag&KindId=2119&FundId=\"\n",
    "a1=[]\n",
    "b1=[]\n",
    "ck=0\n",
    "for i in name:\n",
    "    url=domain+i\n",
    "    response = requests.get(url,proxies=proxies)\n",
    "    content = BeautifulSoup(response.text, \"html.parser\")\n",
    "    table = content.find_all(\"table\")\n",
    "    th=table[0].find_all(\"th\")\n",
    "    td=table[0].find_all(\"td\")\n",
    "    th=th[1:]\n",
    "    for word in range(len(th)):\n",
    "        if \"已發行受益權單位總數\" in th[word].get_text():\n",
    "            a1.append(td[word].get_text())\n",
    "        elif \"預估發行受益權單位數\" in th[word].get_text():\n",
    "            b1.append(td[word].get_text())\n",
    "ans=pd.DataFrame()\n",
    "ans['name']=name\n",
    "ans[\"已發行受益權單位總數\"]=a1\n",
    "ans[\"預估發行受益權單位數\"]=b1\n",
    "ans"
   ]
  },
  {
   "cell_type": "markdown",
   "id": "bd2b625d",
   "metadata": {},
   "source": [
    "# 富邦"
   ]
  },
  {
   "cell_type": "code",
   "execution_count": 141,
   "id": "0b999324",
   "metadata": {},
   "outputs": [
    {
     "data": {
      "text/html": [
       "<div>\n",
       "<style scoped>\n",
       "    .dataframe tbody tr th:only-of-type {\n",
       "        vertical-align: middle;\n",
       "    }\n",
       "\n",
       "    .dataframe tbody tr th {\n",
       "        vertical-align: top;\n",
       "    }\n",
       "\n",
       "    .dataframe thead th {\n",
       "        text-align: right;\n",
       "    }\n",
       "</style>\n",
       "<table border=\"1\" class=\"dataframe\">\n",
       "  <thead>\n",
       "    <tr style=\"text-align: right;\">\n",
       "      <th></th>\n",
       "      <th>name</th>\n",
       "      <th>已發行受益權單位總數</th>\n",
       "      <th>預估發行受益權單位數</th>\n",
       "    </tr>\n",
       "  </thead>\n",
       "  <tbody>\n",
       "    <tr>\n",
       "      <th>0</th>\n",
       "      <td>00694B</td>\n",
       "      <td>93,076,000</td>\n",
       "      <td>93,076,000</td>\n",
       "    </tr>\n",
       "    <tr>\n",
       "      <th>1</th>\n",
       "      <td>00695B</td>\n",
       "      <td>25,186,000</td>\n",
       "      <td>25,186,000</td>\n",
       "    </tr>\n",
       "    <tr>\n",
       "      <th>2</th>\n",
       "      <td>00696B</td>\n",
       "      <td>862,181,000</td>\n",
       "      <td>862,181,000</td>\n",
       "    </tr>\n",
       "    <tr>\n",
       "      <th>3</th>\n",
       "      <td>00746B</td>\n",
       "      <td>2,141,464,000</td>\n",
       "      <td>2,142,964,000</td>\n",
       "    </tr>\n",
       "    <tr>\n",
       "      <th>4</th>\n",
       "      <td>00740B</td>\n",
       "      <td>1,112,471,000</td>\n",
       "      <td>1,112,471,000</td>\n",
       "    </tr>\n",
       "    <tr>\n",
       "      <th>5</th>\n",
       "      <td>00846B</td>\n",
       "      <td>73,850,000</td>\n",
       "      <td>73,850,000</td>\n",
       "    </tr>\n",
       "    <tr>\n",
       "      <th>6</th>\n",
       "      <td>00741B</td>\n",
       "      <td>11,128,000</td>\n",
       "      <td>11,128,000</td>\n",
       "    </tr>\n",
       "    <tr>\n",
       "      <th>7</th>\n",
       "      <td>00785B</td>\n",
       "      <td>871,966,000</td>\n",
       "      <td>871,966,000</td>\n",
       "    </tr>\n",
       "  </tbody>\n",
       "</table>\n",
       "</div>"
      ],
      "text/plain": [
       "     name     已發行受益權單位總數     預估發行受益權單位數\n",
       "0  00694B     93,076,000     93,076,000\n",
       "1  00695B     25,186,000     25,186,000\n",
       "2  00696B    862,181,000    862,181,000\n",
       "3  00746B  2,141,464,000  2,142,964,000\n",
       "4  00740B  1,112,471,000  1,112,471,000\n",
       "5  00846B     73,850,000     73,850,000\n",
       "6  00741B     11,128,000     11,128,000\n",
       "7  00785B    871,966,000    871,966,000"
      ]
     },
     "execution_count": 141,
     "metadata": {},
     "output_type": "execute_result"
    }
   ],
   "source": [
    "name=[\"00694B\",\"00695B\",\"00696B\",\"00746B\",\"00740B\",\"00846B\",\"00741B\",\"00785B\"]\n",
    "proxy = \"10.11.1.78:8080\"\n",
    "proxies = {\n",
    "    \"http\": \"http://\" + proxy,\n",
    "    \"https\": \"http://\" + proxy,\n",
    "}\n",
    "domain=\"https://websys.fsit.com.tw/FubonETF/Trade/Pcf.aspx?stkId=\"\n",
    "a1=[]\n",
    "b1=[]\n",
    "ck=0\n",
    "for i in name:\n",
    "    url=domain+i+\"&lan=TW\"\n",
    "    response = requests.get(url,proxies=proxies)\n",
    "    content = BeautifulSoup(response.text, \"html.parser\")\n",
    "    content = BeautifulSoup(response.text, \"html.parser\")\n",
    "    p=content.find_all(\"p\")\n",
    "    for i in range(len(p)):\n",
    "        if '已發行受益權單位總數' in p[i].get_text():\n",
    "            a1.append(p[i+1].get_text())\n",
    "        elif '預估發行受益權單位數' in p[i].get_text():\n",
    "            b1.append(p[i+1].get_text())\n",
    "ans=pd.DataFrame()\n",
    "ans['name']=name\n",
    "ans[\"已發行受益權單位總數\"]=a1\n",
    "ans[\"預估發行受益權單位數\"]=b1\n",
    "ans"
   ]
  },
  {
   "cell_type": "markdown",
   "id": "30d8208b",
   "metadata": {},
   "source": [
    "# 中信"
   ]
  },
  {
   "cell_type": "code",
   "execution_count": null,
   "id": "e6060e21",
   "metadata": {},
   "outputs": [],
   "source": []
  }
 ],
 "metadata": {
  "kernelspec": {
   "display_name": "Python 3 (ipykernel)",
   "language": "python",
   "name": "python3"
  },
  "language_info": {
   "codemirror_mode": {
    "name": "ipython",
    "version": 3
   },
   "file_extension": ".py",
   "mimetype": "text/x-python",
   "name": "python",
   "nbconvert_exporter": "python",
   "pygments_lexer": "ipython3",
   "version": "3.10.9"
  }
 },
 "nbformat": 4,
 "nbformat_minor": 5
}
